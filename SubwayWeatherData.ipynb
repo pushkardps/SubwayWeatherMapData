{
 "cells": [
  {
   "cell_type": "code",
   "execution_count": 16,
   "metadata": {
    "collapsed": true
   },
   "outputs": [],
   "source": [
    "import matplotlib.pyplot as plt\n",
    "import numpy as np\n",
    "import pandas as pd\n",
    "import seaborn as sns"
   ]
  },
  {
   "cell_type": "code",
   "execution_count": 17,
   "metadata": {},
   "outputs": [],
   "source": [
    "filename = 'nyc_subway_weather.csv'\n",
    "subway_df = pd.read_csv(filename)"
   ]
  },
  {
   "cell_type": "code",
   "execution_count": 18,
   "metadata": {},
   "outputs": [
    {
     "name": "stdout",
     "output_type": "stream",
     "text": [
      "subway and rains: 0.0356485157722\n",
      "subway and temperature: -0.0266933483216\n",
      "rain and temperature: -0.229034323408\n",
      "hourly and daily entries: 0.585895470766\n"
     ]
    }
   ],
   "source": [
    "# Find if more people use subway if it rains\n",
    "# Find if more people use subway if temp is too high or too low\n",
    "# Find out if there is correlation between rain and temperature from the readings\n",
    "# Find out if there is any link between hourly and whole day subway entry readings\n",
    "\n",
    "# we will need to create a correlation funtion to answer these questions\n",
    "\n",
    "def correlation(x, y):\n",
    "   \n",
    "    \n",
    "    # we pass the argument \"ddof=0\" to the Pandas std() function to ignore Bessel's correction\n",
    "    \n",
    "    std_x = (x - x.mean())/(x.std(ddof=0))\n",
    "    std_y = (y - y.mean())/ (y.std(ddof=0))\n",
    "    \n",
    "    corr = (std_x*std_y).mean()\n",
    "    return corr\n",
    "\n",
    "entries = subway_df['ENTRIESn_hourly'] \n",
    "cum_entries = subway_df['ENTRIESn']\n",
    "rain = subway_df['meanprecipi']\n",
    "temp = subway_df['meantempi']\n",
    "\n",
    "print 'subway and rains:' , correlation(entries, rain) # no correlation\n",
    "print 'subway and temperature:' , correlation(entries, temp) # no correlation\n",
    "print 'rain and temperature:' , correlation(rain, temp)    #  very low negative correlation\n",
    "print 'hourly and daily entries:', correlation(entries, cum_entries) # moderate positive correlation"
   ]
  },
  {
   "cell_type": "code",
   "execution_count": 19,
   "metadata": {},
   "outputs": [
    {
     "data": {
      "text/plain": [
       "(2342.5999999999999, 3239.9)"
      ]
     },
     "execution_count": 19,
     "metadata": {},
     "output_type": "execute_result"
    }
   ],
   "source": [
    "# find the station with the maximum riders on the\n",
    "# first day, then return the mean riders per day for that station. Also\n",
    "# return the mean ridership overall for comparsion\n",
    "\n",
    "# Subway ridership for 5 stations on 10 different days\n",
    "ridership_df = pd.DataFrame(\n",
    "    data=[[   0,    0,    2,    5,    0],\n",
    "          [1478, 3877, 3674, 2328, 2539],\n",
    "          [1613, 4088, 3991, 6461, 2691],\n",
    "          [1560, 3392, 3826, 4787, 2613],\n",
    "          [1608, 4802, 3932, 4477, 2705],\n",
    "          [1576, 3933, 3909, 4979, 2685],\n",
    "          [  95,  229,  255,  496,  201],\n",
    "          [   2,    0,    1,   27,    0],\n",
    "          [1438, 3785, 3589, 4174, 2215],\n",
    "          [1342, 4043, 4009, 4665, 3033]],\n",
    "    index=['05-01-11', '05-02-11', '05-03-11', '05-04-11', '05-05-11',\n",
    "           '05-06-11', '05-07-11', '05-08-11', '05-09-11', '05-10-11'],\n",
    "    columns=['R003', 'R004', 'R005', 'R006', 'R007']\n",
    ")\n",
    "\n",
    "def mean_riders_for_max_station(ridership):\n",
    "    \n",
    "    firstDayMax = ridership.iloc[0,:].argmax()\n",
    "    overall_mean = ridership.values.mean() \n",
    "    mean_for_max = ridership[firstDayMax].mean() \n",
    "    \n",
    "    return (overall_mean, mean_for_max)\n",
    "\n",
    "mean_riders_for_max_station(ridership_df)"
   ]
  },
  {
   "cell_type": "code",
   "execution_count": 14,
   "metadata": {},
   "outputs": [
    {
     "name": "stdout",
     "output_type": "stream",
     "text": [
      "day_week\n",
      "0    1825.264907\n",
      "1    2164.836433\n",
      "2    2297.097957\n",
      "3    2317.072379\n",
      "4    2277.372294\n",
      "5    1383.901479\n",
      "6    1066.436106\n",
      "Name: ENTRIESn_hourly, dtype: float64\n"
     ]
    }
   ],
   "source": [
    "# To find ridership per day\n",
    "# Use groupby() function to group subway data by 'days of the week' (day_week)\n",
    "\n",
    "ridership_by_day = subway_df.groupby('day_week').mean()['ENTRIESn_hourly']\n",
    "print  ridership_by_day"
   ]
  },
  {
   "cell_type": "code",
   "execution_count": 15,
   "metadata": {},
   "outputs": [
    {
     "name": "stdout",
     "output_type": "stream",
     "text": [
      "Populating the interactive namespace from numpy and matplotlib\n"
     ]
    },
    {
     "data": {
      "text/plain": [
       "<matplotlib.axes._subplots.AxesSubplot at 0xc86cc88>"
      ]
     },
     "execution_count": 15,
     "metadata": {},
     "output_type": "execute_result"
    },
    {
     "data": {
      "image/png": "[encoded data removed]",
      "text/plain": [
       "<matplotlib.figure.Figure at 0xc86c128>"
      ]
     },
     "metadata": {},
     "output_type": "display_data"
    }
   ],
   "source": [
    "# Observe ridership per day on graph\n",
    "%pylab inline\n",
    "import seaborn as sns\n",
    "ridership_by_day.plot()\n",
    "#ridership is significantly lower on day 5 and day 6 -> weekends, so it makes sense"
   ]
  }
 ],
 "metadata": {
  "kernelspec": {
   "display_name": "Python 2",
   "language": "python",
   "name": "python2"
  },
  "language_info": {
   "codemirror_mode": {
    "name": "ipython",
    "version": 2
   },
   "file_extension": ".py",
   "mimetype": "text/x-python",
   "name": "python",
   "nbconvert_exporter": "python",
   "pygments_lexer": "ipython2",
   "version": "2.7.13"
  }
 },
 "nbformat": 4,
 "nbformat_minor": 2
}
